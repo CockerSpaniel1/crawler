{
 "cells": [
  {
   "cell_type": "code",
   "execution_count": 17,
   "id": "8b726865-3c3a-4dd9-b6a4-dc15a5b6a06f",
   "metadata": {},
   "outputs": [
    {
     "name": "stdout",
     "output_type": "stream",
     "text": [
      "Fw: [法語] 戒殺 吃素 念阿彌陀佛  4/27 anatta\n",
      "[食記] MEHFIL印度餐廳 新北林口 羊肉咖哩配烤饢  4/27 Geiwoyujie\n",
      "[食記] 桃園。小料理海米粉  4/27 larle\n",
      "[公告] Food板 板規 V3.91 12/16 Dilbert\n",
      "[公告] 發文請在標題加上地區及提供地址電話。^^  9/28 bluefish\n",
      "[公告] 文章被刪除者請洽精華區的資源回收桶 10/01 Dilbert\n",
      "[公告] 新增板規22：發文禁附延伸閱讀連結  6/04 Dilbert\n"
     ]
    },
    {
     "name": "stderr",
     "output_type": "stream",
     "text": [
      "c:\\users\\administrator\\appdata\\local\\programs\\python\\python38\\lib\\site-packages\\urllib3\\connectionpool.py:1103: InsecureRequestWarning: Unverified HTTPS request is being made to host 'www.ptt.cc'. Adding certificate verification is strongly advised. See: https://urllib3.readthedocs.io/en/latest/advanced-usage.html#tls-warnings\n",
      "  warnings.warn(\n"
     ]
    }
   ],
   "source": [
    "import requests\n",
    "from bs4 import BeautifulSoup\n",
    "url = \"https://www.ptt.cc/bbs/Food/index.html\"\n",
    "res = requests.get(url, verify=False)\n",
    "\n",
    "soup = BeautifulSoup(res.text)\n",
    "for entry in soup.select(\".r-ent\"):\n",
    "    print(entry.select(\".title\")[0].text.strip() , entry.select(\".date\")[0].text  ,   entry.select(\".author\")[0].text)\n",
    "\n"
   ]
  }
 ],
 "metadata": {
  "kernelspec": {
   "display_name": "Python 3 (ipykernel)",
   "language": "python",
   "name": "python3"
  },
  "language_info": {
   "codemirror_mode": {
    "name": "ipython",
    "version": 3
   },
   "file_extension": ".py",
   "mimetype": "text/x-python",
   "name": "python",
   "nbconvert_exporter": "python",
   "pygments_lexer": "ipython3",
   "version": "3.8.9"
  }
 },
 "nbformat": 4,
 "nbformat_minor": 5
}
