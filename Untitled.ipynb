{
 "cells": [
  {
   "cell_type": "code",
   "execution_count": 16,
   "id": "531dc62a-84bf-4284-9693-000e5b9fd4bb",
   "metadata": {},
   "outputs": [
    {
     "data": {
      "text/plain": [
       "\"<!doctype html PUBLIC '-//W3C//DTD XHTML 1.0 Transitional//EN' 'http://www.w3.org/TR/xhtml1/DTD/xhtml1-transitional.dtd'><html lang='zh-Hant'><head><meta charset='UTF-8'><meta name='viewport' content='width=device-width'><title>初始化中,請稍候...</title><link rel='icon' href='image/Goodinfo.ico'><script type='text/javascript' charset='utf-8' src='Lib.js/Initial.asp'></script><script type='text/javascript' charset='utf-8' src='Lib.js/Utility.asp'></script><script type='text/javascript' charset='utf-8' src='Lib.js/Cookie.asp'></script></head><body><form id='frmLink' method='post' target='_self' action=''>初始化中,請稍候...</form>(如網頁未能自動轉址, 請確認您瀏覽器的JavaScript是否有正常運作)</body><script language='javascript'>setTimeout(function(){  frmLink.action='StockBzPerformance.asp?STOCK_ID=2330&INITIALIZED=T';  frmLink.submit();},1000);</script></html>\""
      ]
     },
     "execution_count": 16,
     "metadata": {},
     "output_type": "execute_result"
    }
   ],
   "source": [
    "import requests\n",
    "headers = {\n",
    "  'user-agent': 'Mozilla/5.0 (Macintosh; Intel Mac OS X 10_14_6) AppleWebKit/537.36 (KHTML, like Gecko) Chrome/84.0.4147.105 Safari/537.36',\n",
    "    \"cookie\":\"CLIENT%5FID=20240501145254539%5F203%2E77%2E43%2E159; IS_TOUCH_DEVICE=F; SCREEN_SIZE=WIDTH=1920&HEIGHT=1080; TW_STOCK_BROWSE_LIST=2330\"\n",
    "}\n",
    "url = \"https://goodinfo.tw/tw/Lib.js/Unity.asp\"\n",
    "#res = requests.get(url , headers = headers)\n",
    "# res = requests.get('https://goodinfo.tw/StockInfo/StockBzPerformance.asp?STOCK_ID=2330', headers = headers)\n",
    "res.encoding = 'utf-8'\n",
    "res.text"
   ]
  },
  {
   "cell_type": "code",
   "execution_count": 14,
   "id": "98b59417-dca7-4e6f-94b0-5f3d78bc78dc",
   "metadata": {},
   "outputs": [
    {
     "name": "stdout",
     "output_type": "stream",
     "text": [
      "<!DOCTYPE html PUBLIC \"-//W3C//DTD XHTML 1.0 Strict//EN\" \"http://www.w3.org/TR/xhtml1/DTD/xhtml1-strict.dtd\">\n",
      "\n",
      "<html xmlns=\"http://www.w3.org/1999/xhtml\">\n",
      "<head>\n",
      "<title>IIS 10.0 詳細錯誤 - 404.0 - Not Found</title>\n",
      "<style type=\"text/css\"> \n",
      "<!-- \n",
      "body{margin:0;font-size:.7em;font-family:Verdana,Arial,Helvetica,sans-serif;} \n",
      "code{margin:0;color:#006600;font-size:1.1em;font-weight:bold;} \n",
      ".config_source code{font-size:.8em;color:#000000;} \n",
      "pre{margin:0;font-size:1.4em;word-wrap:break-word;} \n",
      "ul,ol{margin:10px 0 10px 5px;} \n",
      "ul.first,ol.first{margin-top:5px;} \n",
      "fieldset{padding:0 15px 10px 15px;word-break:break-all;} \n",
      ".summary-container fieldset{padding-bottom:5px;margin-top:4px;} \n",
      "legend.no-expand-all{padding:2px 15px 4px 10px;margin:0 0 0 -12px;} \n",
      "legend{color:#333333;;margin:4px 0 8px -12px;_margin-top:0px; \n",
      "font-weight:bold;font-size:1em;} \n",
      "a:link,a:visited{color:#007EFF;font-weight:bold;} \n",
      "a:hover{text-decoration:none;} \n",
      "h1{font-size:2.4em;margin:0;color:#FFF;} \n",
      "h2{font-size:1.7em;margin:0;color:#CC0000;} \n",
      "h3{font-size:1.4em;margin:10px 0 0 0;color:#CC0000;} \n",
      "h4{font-size:1.2em;margin:10px 0 5px 0; \n",
      "}#header{width:96%;margin:0 0 0 0;padding:6px 2% 6px 2%;font-family:\"trebuchet MS\",Verdana,sans-serif; \n",
      " color:#FFF;background-color:#5C87B2; \n",
      "}#content{margin:0 0 0 2%;position:relative;} \n",
      ".summary-container,.content-container{background:#FFF;width:96%;margin-top:8px;padding:10px;position:relative;} \n",
      ".content-container p{margin:0 0 10px 0; \n",
      "}#details-left{width:35%;float:left;margin-right:2%; \n",
      "}#details-right{width:63%;float:left;overflow:hidden; \n",
      "}#server_version{width:96%;_height:1px;min-height:1px;margin:0 0 5px 0;padding:11px 2% 8px 2%;color:#FFFFFF; \n",
      " background-color:#5A7FA5;border-bottom:1px solid #C1CFDD;border-top:1px solid #4A6C8E;font-weight:normal; \n",
      " font-size:1em;color:#FFF;text-align:right; \n",
      "}#server_version p{margin:5px 0;} \n",
      "table{margin:4px 0 4px 0;width:100%;border:none;} \n",
      "td,th{vertical-align:top;padding:3px 0;text-align:left;font-weight:normal;border:none;} \n",
      "th{width:30%;text-align:right;padding-right:2%;font-weight:bold;} \n",
      "thead th{background-color:#ebebeb;width:25%; \n",
      "}#details-right th{width:20%;} \n",
      "table tr.alt td,table tr.alt th{} \n",
      ".highlight-code{color:#CC0000;font-weight:bold;font-style:italic;} \n",
      ".clear{clear:both;} \n",
      ".preferred{padding:0 5px 2px 5px;font-weight:normal;background:#006633;color:#FFF;font-size:.8em;} \n",
      "--> \n",
      "</style>\n",
      "</head>\n",
      "<body>\n",
      "<div id=\"content\">\n",
      "<div class=\"content-container\">\n",
      "<h3>HTTP 錯誤 404.0 - Not Found</h3>\n",
      "<h4>您尋找的資源已移除、名稱已變更，或暫時無法使用。</h4>\n",
      "</div>\n",
      "<div class=\"content-container\">\n",
      "<fieldset><h4>最有可能的原因:</h4>\n",
      "<ul> <li>網頁伺服器上不存在指定的目錄或檔案。</li> <li>URL 包含拼字錯誤。</li> <li>自訂篩選器或模組 (例如 URLScan) 限制存取此檔案。</li> </ul>\n",
      "</fieldset>\n",
      "</div>\n",
      "<div class=\"content-container\">\n",
      "<fieldset><h4>解決方法:</h4>\n",
      "<ul> <li>在網頁伺服器上建立內容。</li> <li>檢閱瀏覽器 URL。</li> <li>建立追蹤規則以追蹤此 HTTP 狀態碼的失敗要求，並查看哪一個模組正在呼叫 SetStatus。如需有關建立失敗要求之追蹤規則的詳細資訊，請按一下<a href=\"http://go.microsoft.com/fwlink/?LinkID=66439\">這裡</a>。</li> </ul>\n",
      "</fieldset>\n",
      "</div>\n",
      "<div class=\"content-container\">\n",
      "<fieldset><h4>詳細錯誤資訊:</h4>\n",
      "<div id=\"details-left\">\n",
      "<table border=\"0\" cellpadding=\"0\" cellspacing=\"0\">\n",
      "<tr class=\"alt\"><th>模組</th><td>   IIS Web Core</td></tr>\n",
      "<tr><th>通知</th><td>   MapRequestHandler</td></tr>\n",
      "<tr class=\"alt\"><th>處理常式</th><td>   ASPClassic</td></tr>\n",
      "<tr><th>錯誤碼</th><td>   0x80070002</td></tr>\n",
      "</table>\n",
      "</div>\n",
      "<div id=\"details-right\">\n",
      "<table border=\"0\" cellpadding=\"0\" cellspacing=\"0\">\n",
      "<tr class=\"alt\"><th>要求的 URL</th><td>   https://goodinfo.tw:443/tw/Lib.js/Unity.asp</td></tr>\n",
      "<tr><th>實體路徑</th><td>   D:\\Web\\StockTW\\Lib.js\\Unity.asp</td></tr>\n",
      "<tr class=\"alt\"><th>登入方法</th><td>   匿名</td></tr>\n",
      "<tr><th>登入使用者</th><td>   匿名</td></tr>\n",
      "</table>\n",
      "<div class=\"clear\"></div>\n",
      "</div>\n",
      "</fieldset>\n",
      "</div>\n",
      "<div class=\"content-container\">\n",
      "<fieldset><h4>詳細資訊:</h4> \n",
      "  此錯誤表示伺服器上不存在此檔案或目錄。請建立檔案或目錄，然後再次嘗試要求。 \n",
      "  <p><a href=\"https://go.microsoft.com/fwlink/?LinkID=62293&amp;IIS70Error=404,0,0x80070002,19045\">檢視詳細資訊 »</a></p>\n",
      "</fieldset>\n",
      "</div>\n",
      "</div>\n",
      "</body>\n",
      "</html>\n",
      "\n"
     ]
    }
   ],
   "source": [
    "from bs4 import BeautifulSoup\n",
    "soup = BeautifulSoup(res.text)\n",
    "print(soup)"
   ]
  },
  {
   "cell_type": "code",
   "execution_count": null,
   "id": "fb5f575a-b7be-4ee6-890e-4ef1ea23310f",
   "metadata": {},
   "outputs": [],
   "source": []
  }
 ],
 "metadata": {
  "kernelspec": {
   "display_name": "Python 3 (ipykernel)",
   "language": "python",
   "name": "python3"
  },
  "language_info": {
   "codemirror_mode": {
    "name": "ipython",
    "version": 3
   },
   "file_extension": ".py",
   "mimetype": "text/x-python",
   "name": "python",
   "nbconvert_exporter": "python",
   "pygments_lexer": "ipython3",
   "version": "3.8.9"
  }
 },
 "nbformat": 4,
 "nbformat_minor": 5
}
