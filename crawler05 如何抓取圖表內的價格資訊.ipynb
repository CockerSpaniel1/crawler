{
 "cells": [
  {
   "cell_type": "code",
   "execution_count": 3,
   "id": "85420c4f-335e-4518-b468-5cb842c7866b",
   "metadata": {},
   "outputs": [
    {
     "name": "stderr",
     "output_type": "stream",
     "text": [
      "c:\\users\\administrator\\appdata\\local\\programs\\python\\python38\\lib\\site-packages\\urllib3\\connectionpool.py:1103: InsecureRequestWarning: Unverified HTTPS request is being made to host 'fxds-hcc.oanda.com'. Adding certificate verification is strongly advised. See: https://urllib3.readthedocs.io/en/latest/advanced-usage.html#tls-warnings\n",
      "  warnings.warn(\n"
     ]
    },
    {
     "name": "stdout",
     "output_type": "stream",
     "text": [
      "{'data': [[1714262400000, '0.935017'], [1714176000000, '0.935104'], [1714089600000, '0.933348'], [1714003200000, '0.932949'], [1713916800000, '0.934861'], [1713830400000, '0.936411'], [1713744000000, '0.938565'], [1713657600000, '0.938274'], [1713571200000, '0.938306'], [1713484800000, '0.938992'], [1713398400000, '0.937688'], [1713312000000, '0.939401'], [1713225600000, '0.941392'], [1713139200000, '0.939531'], [1713052800000, '0.939582'], [1712966400000, '0.939602'], [1712880000000, '0.937269'], [1712793600000, '0.931628'], [1712707200000, '0.925526'], [1712620800000, '0.920751'], [1712534400000, '0.922245'], [1712448000000, '0.922608'], [1712361600000, '0.922552'], [1712275200000, '0.923145'], [1712188800000, '0.921554'], [1712102400000, '0.926045'], [1712016000000, '0.930152'], [1711929600000, '0.928662'], [1711843200000, '0.926396'], [1711756800000, '0.926381'], [1711670400000, '0.927053']]}\n"
     ]
    }
   ],
   "source": [
    "import requests\n",
    "import re\n",
    "import json\n",
    "url= \"https://fxds-hcc.oanda.com/api/initialize?source=OANDA&adjustment=0&base_currency=USD&start_date=2024-3-29&end_date=2024-4-28&period=daily&price=bid&view=graph&quote_currency_0=EUR&quote_currency_1=&quote_currency_2=&quote_currency_3=&quote_currency_4=&quote_currency_5=&quote_currency_6=&quote_currency_7=&quote_currency_8=&quote_currency_9=&_=1714246140979\"\n",
    "res = requests.get(url, verify=False)\n",
    "# dic = json.loads(res.text)\n",
    "# print(dic['data'])\n",
    "\n",
    "m = re.search('(\"data\": \\[\\[.*\\]\\])',res.text)\n",
    "data = json.loads('{' + m.group(1) + '}')\n",
    "print(data)"
   ]
  },
  {
   "cell_type": "code",
   "execution_count": null,
   "id": "4bc27d70-0a98-4276-8b49-9fcabe2a5a04",
   "metadata": {},
   "outputs": [],
   "source": []
  }
 ],
 "metadata": {
  "kernelspec": {
   "display_name": "Python 3 (ipykernel)",
   "language": "python",
   "name": "python3"
  },
  "language_info": {
   "codemirror_mode": {
    "name": "ipython",
    "version": 3
   },
   "file_extension": ".py",
   "mimetype": "text/x-python",
   "name": "python",
   "nbconvert_exporter": "python",
   "pygments_lexer": "ipython3",
   "version": "3.8.9"
  }
 },
 "nbformat": 4,
 "nbformat_minor": 5
}
