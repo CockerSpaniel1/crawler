{
 "cells": [
  {
   "cell_type": "code",
   "execution_count": 1,
   "id": "f70ec188-a83b-439e-9c95-72ecd7cb84a7",
   "metadata": {},
   "outputs": [
    {
     "name": "stdout",
     "output_type": "stream",
     "text": [
      "{\"counts\":[{\"count\":6224,\"guid\":\"a180a15b-9e4f-4575-b28f-927fcb5c63a3\",\"svc\":\"NV\"}]}\n"
     ]
    }
   ],
   "source": [
    "import requests\n",
    "#from bs4 import BeautifulSoup\n",
    "url = \"https://www.moneydj.com/InfoSvc/apis/vc\"\n",
    "payload = '{\"counts\":[{\"svc\":\"NV\",\"guid\":\"a180a15b-9e4f-4575-b28f-927fcb5c63a3\"}]}'\n",
    "head = {\"Content-Type\": \"application/json\"}\n",
    "res = requests.post(url, data=payload, headers= head)\n",
    "print(res.text)\n",
    "\n"
   ]
  },
  {
   "cell_type": "code",
   "execution_count": null,
   "id": "a377da22-5fb7-4c33-b774-f4519e81963e",
   "metadata": {},
   "outputs": [],
   "source": []
  },
  {
   "cell_type": "code",
   "execution_count": null,
   "id": "8095a9f3-f9fb-4275-97ed-9e308509a61c",
   "metadata": {},
   "outputs": [],
   "source": []
  }
 ],
 "metadata": {
  "kernelspec": {
   "display_name": "Python 3 (ipykernel)",
   "language": "python",
   "name": "python3"
  },
  "language_info": {
   "codemirror_mode": {
    "name": "ipython",
    "version": 3
   },
   "file_extension": ".py",
   "mimetype": "text/x-python",
   "name": "python",
   "nbconvert_exporter": "python",
   "pygments_lexer": "ipython3",
   "version": "3.8.9"
  }
 },
 "nbformat": 4,
 "nbformat_minor": 5
}
